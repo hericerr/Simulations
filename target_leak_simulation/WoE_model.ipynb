{
 "cells": [
  {
   "cell_type": "markdown",
   "metadata": {},
   "source": [
    "### WoE Model"
   ]
  },
  {
   "cell_type": "markdown",
   "metadata": {},
   "source": [
    "#### Demonstrates the dangers of inproper usage of the Weight of Evidence transformation"
   ]
  },
  {
   "cell_type": "code",
   "execution_count": 1,
   "metadata": {},
   "outputs": [],
   "source": [
    "import numpy as np\n",
    "from sklearn.linear_model import LogisticRegression\n",
    "from sklearn.pipeline import Pipeline\n",
    "from sklearn.preprocessing import KBinsDiscretizer\n",
    "from sklearn.datasets import make_classification\n",
    "\n",
    "from woe import WoETransformer\n",
    "from simulation import TargetLeakageSimulation\n",
    "\n",
    "%load_ext autoreload\n",
    "%autoreload 2"
   ]
  },
  {
   "cell_type": "code",
   "execution_count": 2,
   "metadata": {},
   "outputs": [
    {
     "name": "stdout",
     "output_type": "stream",
     "text": [
      "Simulation that demonstrates the importance of proper model validation\n",
      "    \n",
      "    Simulates two ways of approaching the modelling:\n",
      "        - correct one: using only train sample to build the whole pipeline\n",
      "        - incorrect one: using the whole development sample (train+test)\n",
      "          to build part of the pipeline (e.g. fitting transformers, preselecting\n",
      "          features etc.) which can cause a severe target leakage and is, sadly, \n",
      "          quite a common mistake.\n",
      "          \n",
      "    Each round, data (simulated using the provided data generator) is split into\n",
      "    train, test and production. One pipeline is build using the train test only,\n",
      "    second uses train+test to fit the transformer and train to fit the estimator,\n",
      "    both pipelines are then tested on unseen data to simulate production.\n",
      "    \n",
      "    :param transformer: sklearn transformer\n",
      "    :param estimator: sklearn estimator\n",
      "    :param data_generator: callable returning data as a tuple (X, y)\n",
      "    \n"
     ]
    }
   ],
   "source": [
    "print(TargetLeakageSimulation.__doc__)"
   ]
  },
  {
   "cell_type": "markdown",
   "metadata": {},
   "source": [
    "### Helper code"
   ]
  },
  {
   "cell_type": "code",
   "execution_count": 3,
   "metadata": {},
   "outputs": [],
   "source": [
    "def independent_random(n_samples, n_features, p=0.5):\n",
    "    \"\"\"Generates random dataset with independent target\n",
    "    \"\"\"\n",
    "    X = np.random.normal(size=(n_samples, n_features))\n",
    "    y = np.random.binomial(n=1, p=p, size=n_samples)\n",
    "    return X, y"
   ]
  },
  {
   "cell_type": "markdown",
   "metadata": {},
   "source": [
    "### Run Simulations"
   ]
  },
  {
   "cell_type": "code",
   "execution_count": 4,
   "metadata": {},
   "outputs": [],
   "source": [
    "#pipeline set up\n",
    "transformer = Pipeline([(\"disc\", KBinsDiscretizer(n_bins=5, encode=\"ordinal\"))\n",
    "                        ,(\"woe\", WoETransformer())])\n",
    "estimator = LogisticRegression()"
   ]
  },
  {
   "cell_type": "markdown",
   "metadata": {},
   "source": [
    "#### Extreme case: completely independet target"
   ]
  },
  {
   "cell_type": "code",
   "execution_count": 5,
   "metadata": {},
   "outputs": [],
   "source": [
    "#config\n",
    "N_SIMUL = 50\n",
    "N_SAMPLES = 1000\n",
    "N_PREDICTORS = 500"
   ]
  },
  {
   "cell_type": "code",
   "execution_count": 6,
   "metadata": {},
   "outputs": [
    {
     "name": "stdout",
     "output_type": "stream",
     "text": [
      "Correct approach:\n",
      "Train accuracy: 0.9997\n",
      "Test accuracy: 0.4998\n",
      "Production accuracy: 0.4913\n",
      "\n",
      "Leakage approach:\n",
      "Train accuracy: 0.9971\n",
      "Test accuracy: 0.8644\n",
      "Production accuracy: 0.4895\n",
      "\n",
      "Simulation run in: 0:01:36.408324\n"
     ]
    }
   ],
   "source": [
    "simulation = TargetLeakageSimulation(transformer,\n",
    "                                     estimator,\n",
    "                                     independent_random)\n",
    "results = simulation.run(N_SIMUL,\n",
    "                         n_samples=N_SAMPLES,\n",
    "                         n_features=N_PREDICTORS)"
   ]
  },
  {
   "cell_type": "markdown",
   "metadata": {},
   "source": [
    "#### More realistic case: mix of predictive and noise features"
   ]
  },
  {
   "cell_type": "code",
   "execution_count": 7,
   "metadata": {},
   "outputs": [],
   "source": [
    "#config\n",
    "N_SIMUL = 50\n",
    "N_SAMPLES = 1000\n",
    "N_PREDICTORS = 500\n",
    "N_INFORMATIVE = 300\n",
    "N_REDUNDANT = 100"
   ]
  },
  {
   "cell_type": "code",
   "execution_count": 8,
   "metadata": {},
   "outputs": [
    {
     "name": "stdout",
     "output_type": "stream",
     "text": [
      "Correct approach:\n",
      "Train accuracy: 0.9998\n",
      "Test accuracy: 0.6492\n",
      "Production accuracy: 0.6523\n",
      "\n",
      "Leakage approach:\n",
      "Train accuracy: 0.999\n",
      "Test accuracy: 0.8987\n",
      "Production accuracy: 0.6658\n",
      "\n",
      "Simulation run in: 0:01:30.486671\n"
     ]
    }
   ],
   "source": [
    "simulation = TargetLeakageSimulation(transformer,\n",
    "                                     estimator,\n",
    "                                     make_classification)\n",
    "results = simulation.run(N_SIMUL,\n",
    "                         n_samples=N_SAMPLES,\n",
    "                         n_features=N_PREDICTORS,\n",
    "                         n_informative=N_INFORMATIVE,\n",
    "                         n_redundant=N_REDUNDANT)"
   ]
  }
 ],
 "metadata": {
  "kernelspec": {
   "display_name": "Python 3",
   "language": "python",
   "name": "python3"
  },
  "language_info": {
   "codemirror_mode": {
    "name": "ipython",
    "version": 3
   },
   "file_extension": ".py",
   "mimetype": "text/x-python",
   "name": "python",
   "nbconvert_exporter": "python",
   "pygments_lexer": "ipython3",
   "version": "3.7.3"
  }
 },
 "nbformat": 4,
 "nbformat_minor": 2
}
